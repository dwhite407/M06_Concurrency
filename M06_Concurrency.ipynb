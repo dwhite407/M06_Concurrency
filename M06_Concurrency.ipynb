{
 "cells": [
  {
   "cell_type": "code",
   "execution_count": 55,
   "id": "77a9eef5-6b4d-4560-9cbb-54548dd095eb",
   "metadata": {},
   "outputs": [],
   "source": [
    "from datetime import date\n",
    "\n",
    "#This gets today's date\n",
    "current_date = date.today()\n",
    "\n",
    "#This gets the date and sets it to a string\n",
    "date_string = current_date.strftime(\"%Y-%m-%d\")\n",
    "\n",
    "#This opens and writes the date into a txt file\n",
    "with open(\"today.txt\", \"w\") as file:\n",
    "    file.write(date_string)"
   ]
  },
  {
   "cell_type": "code",
   "execution_count": 57,
   "id": "e24c0442-4ee0-49bb-8481-666aff28702a",
   "metadata": {},
   "outputs": [],
   "source": [
    "#13.2\n",
    "\n",
    "#This opens and reads the files\n",
    "with open('today.txt', 'r') as file:\n",
    "    today_string = file.read()"
   ]
  },
  {
   "cell_type": "code",
   "execution_count": 59,
   "id": "bfc7ec8a-c0c8-4b5d-90a8-2c4991e1abbf",
   "metadata": {},
   "outputs": [
    {
     "name": "stdout",
     "output_type": "stream",
     "text": [
      "2024-12-01\n"
     ]
    }
   ],
   "source": [
    "#13.3\n",
    "from datetime import datetime\n",
    "\n",
    "#Parses the date to create an object\n",
    "parsed_date = datetime.strptime(today_string, \"%Y-%m-%d\").date()\n",
    "\n",
    "print(parsed_date)\n"
   ]
  },
  {
   "cell_type": "code",
   "execution_count": null,
   "id": "b05be2a4-2dfc-4ae5-a627-86d63a058234",
   "metadata": {},
   "outputs": [],
   "source": []
  }
 ],
 "metadata": {
  "kernelspec": {
   "display_name": "Python 3 (ipykernel)",
   "language": "python",
   "name": "python3"
  },
  "language_info": {
   "codemirror_mode": {
    "name": "ipython",
    "version": 3
   },
   "file_extension": ".py",
   "mimetype": "text/x-python",
   "name": "python",
   "nbconvert_exporter": "python",
   "pygments_lexer": "ipython3",
   "version": "3.12.4"
  }
 },
 "nbformat": 4,
 "nbformat_minor": 5
}
